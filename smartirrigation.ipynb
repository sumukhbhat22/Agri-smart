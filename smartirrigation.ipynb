import requests
from datetime import datetime, timedelta

# Configuration
WEATHER_API_KEY = "2d5521004c9b3dadc082efa3537c52ef"  # Replace with your OpenWeatherMap API Key
BASE_URL = "http://api.openweathermap.org/data/2.5/weather"

# === Weather Data Fetcher ===
def get_weather(location):
    try:
        params = {
            'q': location,
            'appid': WEATHER_API_KEY,
            'units': 'metric'
        }
        response = requests.get(BASE_URL, params=params)
        response.raise_for_status()
        data = response.json()
        return {
            'temp': data['main']['temp'],
            'humidity': data['main']['humidity'],
            'rainfall': data.get('rain', {}).get('1h', 0) or 0
        }
    except Exception as e:
        print(f"Error fetching weather: {e}")
        return None

# === Irrigation Decision Logic ===
def decide_irrigation(temp, humidity, rainfall, soil_moisture):
    if soil_moisture < 30 and rainfall < 2:
        if temp > 30:
            return "Irrigate with 20L/m² now (hot and dry)"
        elif humidity < 50:
            return "Irrigate with 15L/m² now (dry conditions)"
        else:
            return "Irrigate with 10L/m² now"
    elif soil_moisture > 60 or rainfall > 5:
        return "No irrigation needed (sufficient moisture)"
    else:
        next_time = (datetime.now() + timedelta(days=1)).strftime('%Y-%m-%d %H:%M')
        return f"Schedule irrigation for tomorrow at {next_time} with 10L/m²"

# === CLI Interface ===
def main():
    print("🌱 Smart Irrigation Scheduler")
    location = input("Enter your city: ")
    try:
        soil_moisture = float(input("Enter current soil moisture level (%): "))
    except ValueError:
        print("Invalid soil moisture value. Please enter a number.")
        return

    weather = get_weather(location)
    if not weather:
        print("Unable to retrieve weather data.")
        return

    print(f"\n Weather in {location}:")
    print(f"  Temperature: {weather['temp']}°C")
    print(f"  Humidity: {weather['humidity']}%")
    print(f"  Rainfall (last hour): {weather['rainfall']}mm")

    decision = decide_irrigation(
        temp=weather['temp'],
        humidity=weather['humidity'],
        rainfall=weather['rainfall'],
        soil_moisture=soil_moisture
    )

    print(f"\n Irrigation Advice: {decision}")

if __name__ == "__main__":
    main()
