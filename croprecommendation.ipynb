import pandas as pd
import numpy as np
from sklearn.model_selection import train_test_split
from sklearn.preprocessing import StandardScaler
from sklearn.ensemble import RandomForestClassifier
import pickle
import os

# Crop Recommendation System
class CropRecommender:
    def __init__(self, model_path='crop_model.pkl', scaler_path='scaler.pkl'):
        self.model_path = model_path
        self.scaler_path = scaler_path
        self.model = None
        self.scaler = None
        self.load_model()

    def load_model(self):
        try:
            if os.path.exists(self.model_path) and os.path.exists(self.scaler_path):
                self.model = pickle.load(open(self.model_path, 'rb'))
                self.scaler = pickle.load(open(self.scaler_path, 'rb'))
            else:
                self.train_model()
        except Exception as e:
            print(f"Error loading model: {e}")
            self.train_model()

    def train_model(self):
        try:
            # Load dataset
            data = pd.read_csv('crops.csv')
            X = data[['N', 'P', 'K', 'temperature', 'humidity', 'ph', 'rainfall']]
            y = data['crop']

            # Split and scale data
            X_train, _, y_train, _ = train_test_split(X, y, test_size=0.2, random_state=42)
            self.scaler = StandardScaler()
            X_train_scaled = self.scaler.fit_transform(X_train)

            # Train model
            self.model = RandomForestClassifier(n_estimators=100, random_state=42)
            self.model.fit(X_train_scaled, y_train)

            # Save model and scaler
            pickle.dump(self.model, open(self.model_path, 'wb'))
            pickle.dump(self.scaler, open(self.scaler_path, 'wb'))
        except Exception as e:
            print(f"Error training model: {e}")

    def recommend_crop(self, N, P, K, temperature, humidity, ph, rainfall):
        try:
            input_data = np.array([[N, P, K, temperature, humidity, ph, rainfall]])
            input_scaled = self.scaler.transform(input_data)
            prediction = self.model.predict(input_scaled)
            return prediction[0]
        except Exception as e:
            print(f"Error in recommendation: {e}")
            return None

# Main Application
def main():
    crop_recommender = CropRecommender()

    while True:
        print("\nAI-Driven Crop Recommendation System")
        print("1. Get Crop Recommendation")
        print("2. Exit")
        choice = input("Enter your choice (1-2): ")

        if choice == '1':
            try:
                print("\nEnter soil and weather parameters:")
                N = float(input("Nitrogen (N): "))
                P = float(input("Phosphorus (P): "))
                K = float(input("Potassium (K): "))
                temp = float(input("Temperature (°C): "))
                humidity = float(input("Humidity (%): "))
                ph = float(input("pH: "))
                rainfall = float(input("Rainfall (mm): "))
                crop = crop_recommender.recommend_crop(N, P, K, temp, humidity, ph, rainfall)
                print(f"Recommended Crop: {crop}")
            except ValueError:
                print("Please enter valid numerical values.")
        elif choice == '2':
            print("Exiting...")
            break
        else:
            print("Invalid choice. Please try again.")

if __name__ == "__main__":
    main()
